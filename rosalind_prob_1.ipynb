{
 "cells": [
  {
   "cell_type": "code",
   "execution_count": 70,
   "id": "77ac2171",
   "metadata": {},
   "outputs": [],
   "source": [
    "from collections import Counter"
   ]
  },
  {
   "cell_type": "code",
   "execution_count": 71,
   "id": "913a073b",
   "metadata": {},
   "outputs": [],
   "source": [
    "def read_fasta(file_path):\n",
    "    with open(file_path, 'r') as file:\n",
    "        content = file.read().splitlines()\n",
    "\n",
    "    DNA = {}\n",
    "    DNA_id = None\n",
    "    DNA_data = []\n",
    "\n",
    "    for line in content:\n",
    "        if line.startswith(\">\"):\n",
    "            if DNA_id is not None:\n",
    "                DNA[DNA_id] = ''.join(DNA_data)\n",
    "            DNA_id = line[1:].strip()\n",
    "            DNA_data = []\n",
    "        else:\n",
    "            DNA_data.append(line.strip())\n",
    "\n",
    "    if DNA_id is not None:\n",
    "        DNA[DNA_id] = ''.join(DNA_data)\n",
    "\n",
    "    return DNA\n",
    "\n"
   ]
  },
  {
   "cell_type": "code",
   "execution_count": 72,
   "id": "437d39fd",
   "metadata": {},
   "outputs": [],
   "source": [
    "def cal_consensus(DNA):\n",
    "    sample_length = len(next(iter(DNA.values())))\n",
    "    valid_samples = {k: v for k, v in DNA.items() if len(v) == sample_length}\n",
    "\n",
    "    if len(valid_samples) != len(DNA):\n",
    "        print(\"Warning: Some samples were ignored due to length mismatch.\")\n",
    "\n",
    "    consensus = []\n",
    "    profile = {'A': [], 'C': [], 'G': [], 'T': []}\n",
    "\n",
    "    for i in range(sample_length):\n",
    "        column = [nuc[i] for nuc in valid_samples.values()]\n",
    "        counter = Counter(column)\n",
    "        consensus.append(counter.most_common(1)[0][0])\n",
    "\n",
    "        for nucleotide in 'ACGT':\n",
    "            profile[nucleotide].append(counter[nucleotide])\n",
    "\n",
    "    return ''.join(consensus), profile\n"
   ]
  },
  {
   "cell_type": "code",
   "execution_count": 73,
   "id": "7bd75949",
   "metadata": {},
   "outputs": [],
   "source": [
    "def print_profile(profile):\n",
    "    for nucleotide in 'ACGT':\n",
    "        print(f\"{nucleotide}: {' '.join(map(str, profile[nucleotide]))}\")"
   ]
  },
  {
   "cell_type": "code",
   "execution_count": 74,
   "id": "63262c8f",
   "metadata": {},
   "outputs": [
    {
     "name": "stdout",
     "output_type": "stream",
     "text": [
      "Consensus: AGAAGTATGGTGACCGAATTCTCGTGCGTCGTCCCGGTCTATGGAGGATCTGATGACCGTTATATAAAACGCTTCCGCGTGGACGCCAGTATAAGTGTAACAATATAACCGATTAACATCGAAATGTTTAGAATGCCGCCGGCAGACTAGCGCTAAGCAATACCCCGTAACCCTTAAAGGTTGACGACGTCAGTCTTAATGTAGACCCAAAGCTTTATAGAAGATCCGACCACCTGTGTAGATAGCCATCTAAAGGCTAGCTAACTTGGTGGCTGGTAATAGTAGTTATCCCCGTTGTTTACGTCCCCCACAGAGGGATGGAAGCACCCAACTTCGAAGTTTACTCGAACACTTCCCAATCGGTACGTTCAGTTTTGGACGAAATCGTCTTCTGCGCCTAAAGGTCATGCTCACCTCTGCGAAGTGGATAAGAGTTAGTCTCAACCTCCCACTTTAAATAGCGTACCTAATCGCTGCTCGGAGCATTGTAGAGCCGGTGGTTCGTTCAATGTAGCGAAGGTACCCATCATACGTGGCATAAGGAGAATGTGAATTCGTTATCGAGACCCTGTCTCACCGGGTTTGTCGGTCAAAGGCGCACTTAGCTCACACGCGGCTCCAAGTTAAATCCGCACTATACCATTTTACAGTGTGTAATGGACACTCGGTAACATCATCGGACCGAACAGAACGGGCAGGTCACAGGGGCATCAGAGCCTACCGTGATCGCGACGATTTGAACCTGCCCATTTGAGATCAGCCGTAGACGATAGGCGCAGCGGCAGGAATATCGGTAAACTCGCTTCTACGCGTTCAGCAGTACCAACCGCTATATGGAGGCGAGAGTCGCGTAAGATTGAAGGCGTCTCAGTATAGCCATTCGACTCTACTCTCCAGAATATTGATGCGACACGCATTGACATATGGTTAGGATTGGTTAGGCAGTATAAGGACTT\n",
      "A: 4 0 4 7 3 2 3 2 1 3 4 2 5 3 1 1 5 6 2 2 3 0 3 0 2 1 1 3 3 3 1 3 2 0 2 0 3 2 2 3 5 2 2 0 4 2 1 3 1 2 2 1 4 2 2 5 3 1 2 2 0 5 2 4 2 4 4 4 4 3 2 3 3 2 1 1 2 2 2 1 2 3 4 2 2 2 2 3 0 1 5 1 4 4 2 3 3 3 4 4 2 6 6 3 5 1 4 4 3 3 2 3 2 3 4 4 1 5 1 2 3 5 3 6 2 2 2 1 1 4 1 3 5 1 2 1 3 2 2 3 2 3 1 4 0 5 3 1 3 3 1 2 3 2 4 3 2 2 4 5 2 5 1 4 2 2 2 1 4 3 0 2 3 2 1 5 5 5 1 1 2 2 2 5 3 0 4 3 3 0 2 6 1 2 1 2 3 3 4 3 1 1 5 0 4 1 2 3 4 5 3 3 3 4 3 2 4 3 4 1 5 5 0 4 3 3 2 3 4 2 3 5 3 1 2 3 3 2 1 3 2 5 2 5 1 2 4 5 2 2 1 4 4 4 2 2 2 3 4 0 2 2 4 4 1 3 2 1 2 0 3 1 3 3 3 1 3 4 4 1 4 2 1 4 2 4 3 4 3 4 1 2 0 1 2 2 3 2 4 2 3 1 3 2 1 1 4 2 1 4 2 4 3 4 1 2 1 3 2 3 2 3 5 2 3 5 3 3 1 4 3 2 1 2 1 2 6 4 2 2 1 3 3 3 1 1 2 4 4 2 3 2 1 1 0 1 3 6 4 3 0 2 2 2 6 2 3 2 1 2 3 3 3 2 0 2 2 2 3 2 1 4 3 6 1 2 2 1 2 3 3 0 3 2 2 2 1 2 2 5 3 4 2 2 2 2 5 1 1 3 1 3 5 1 2 2 3 1 2 1 1 4 5 1 2 3 3 4 4 4 3 0 3 1 1 2 4 3 3 2 1 3 3 4 2 0 0 3 2 3 4 0 3 3 0 3 5 3 2 4 3 2 0 3 4 2 2 0 4 4 2 2 0 3 1 1 2 2 2 3 2 6 2 2 4 3 1 3 2 5 2 4 1 4 2 0 3 1 2 3 0 1 1 2 1 3 3 5 5 1 1 1 3 1 2 2 6 4 0 3 2 5 3 0 2 4 3 2 5 3 5 2 2 3 1 0 3 4 1 4 4 2 3 3 2 5 4 2 2 2 2 5 4 3 0 1 1 1 0 3 1 2 1 5 4 4 1 3 3 3 1 2 2 2 2 3 0 2 2 1 3 1 2 3 3 3 3 3 2 2 2 4 6 5 3 1 2 2 3 5 4 2 1 4 3 1 1 3 4 1 4 2 1 1 3 1 1 2 0 0 3 4 2 3 1 4 4 4 2 2 4 2 2 4 2 1 4 2 4 2 0 3 4 3 3 2 4 3 4 3 0 3 2 2 2 4 5 2 0 1 3 2 4 3 3 2 4 1 2 4 5 2 4 3 2 5 3 0 0 2 4 1 2 2 3 6 3 4 2 4 4 2 1 1 3 3 4 2 0 2 1 4 2 3 2 3 1 2 2 4 3 1 3 2 4 2 2 1 2 3 3 1 3 1 0 4 1 2 3 2 3 3 2 1 5 2 3 1 1 5 4 2 1 2 2 1 2 2 5 2 1 2 1 5 3 4 3 1 4 2 2 2 3 4 4 3 4 2 3 5 2 5 3 2 2 0 4 4 1 1 2 1 2 3 4 3 6 5 4 4 2 0 3 1 2 3 3 4 1 1 2 1 2 2 1 2 2 4 3 3 2 2 0 1 3 4 3 3 4 3 4 3 2 3 4 7 3 1 1 4 2 4 2 5 2 2 3 3 2 1 3 2 4 3 4 2 3 1 0 3 4 3 3 3 2 5 1 0 2 3 4 2 1 1 1 3 4 2 4 3 1 3 4 2 4 3 2 2 4 2 1 2 3 4 2 2 2 2 4 3 3 2 2 3 1 3 1 7 3 1 4 2 3 2 6 2 3 0 4 3 2 3 2 3 0 3 3 2 1 5 2 3 2 3 1 3 2 1 2 3 0 2 5 3 3 1 0 3 1 3 2 1 2 5 3 3 3 1 5 4 1 2 5 2 2 3\n",
      "C: 3 3 3 0 0 2 3 3 3 3 1 2 2 3 4 2 0 2 3 1 4 2 4 3 2 3 5 2 2 3 2 2 6 5 4 1 2 1 7 2 0 2 2 3 2 2 3 2 3 4 1 1 2 0 2 2 4 5 3 1 2 0 2 3 2 0 3 2 0 4 3 4 2 2 6 5 3 5 2 2 3 2 2 5 3 4 3 2 3 1 1 3 3 3 3 0 2 2 3 3 6 1 3 0 3 3 1 1 5 5 3 3 2 0 2 2 5 2 1 6 2 1 3 2 2 3 2 1 2 1 1 2 2 3 2 4 3 3 5 4 3 1 5 3 3 2 4 3 3 2 3 2 5 2 3 3 3 4 1 1 3 2 5 4 5 4 2 2 2 2 6 4 3 1 3 2 0 2 1 4 1 1 2 1 3 2 2 4 2 3 4 3 1 3 4 2 2 2 2 1 2 2 1 2 4 5 3 4 1 1 2 3 3 1 1 2 2 2 2 2 2 2 2 2 2 3 3 2 2 5 6 2 4 4 3 1 2 1 1 2 3 3 2 2 2 5 5 3 1 4 2 3 3 2 1 1 3 3 2 1 4 2 2 2 6 2 2 2 3 3 0 3 4 2 1 2 2 2 2 3 2 2 3 3 2 1 2 1 2 4 4 4 5 1 1 2 0 2 1 1 3 4 1 3 4 5 5 4 4 0 4 3 1 3 3 2 2 2 2 2 1 3 2 2 3 0 3 5 4 3 2 3 1 1 6 3 0 2 1 1 3 2 2 3 4 4 2 3 1 4 2 5 3 3 4 3 3 3 1 0 6 1 2 3 0 4 1 3 2 5 3 2 0 2 2 2 3 1 3 4 3 1 2 0 2 4 2 3 4 1 1 5 1 1 3 1 6 4 2 1 3 2 3 3 2 4 1 2 3 3 2 4 2 4 3 1 4 0 2 4 2 2 4 4 2 2 2 2 1 3 3 3 3 2 2 3 1 1 1 4 1 4 2 3 4 4 1 5 3 4 4 5 2 2 4 2 1 2 3 1 2 3 4 1 2 4 3 2 2 2 3 4 2 4 1 2 4 1 7 1 3 3 2 4 0 2 2 2 1 1 1 1 3 5 5 4 2 2 3 2 1 4 5 0 2 0 3 2 3 1 1 2 3 2 6 2 2 3 3 3 3 2 4 5 3 1 0 4 1 1 0 5 3 2 2 2 4 3 2 3 2 1 3 2 3 4 1 2 3 1 0 2 0 2 2 4 4 3 4 2 0 6 1 1 0 2 5 4 4 1 3 2 3 1 4 2 5 4 1 3 2 1 1 0 1 1 5 3 2 3 4 1 3 0 2 3 4 1 4 2 4 3 2 2 2 4 2 3 1 5 3 3 3 5 1 2 6 3 5 5 3 3 2 0 1 1 2 2 2 3 5 0 3 3 6 0 2 0 0 4 5 3 2 3 1 2 1 4 1 3 3 2 2 1 3 1 0 1 3 3 2 4 0 4 1 4 0 1 2 3 3 4 1 2 5 0 2 5 2 2 2 4 3 3 2 1 3 2 2 4 2 5 1 3 1 4 2 3 3 1 5 3 5 3 3 1 2 2 4 2 2 5 3 1 3 1 3 6 2 1 4 5 2 3 3 3 3 4 2 4 2 2 4 2 3 4 2 1 2 0 2 4 4 0 2 4 5 4 1 2 1 2 1 3 1 1 2 4 2 2 5 4 2 1 2 1 3 4 3 1 3 2 1 2 3 3 4 1 1 4 1 3 4 2 0 3 2 1 2 3 3 6 1 3 3 2 1 4 4 2 4 2 4 3 3 4 3 2 4 1 4 3 2 0 4 3 0 4 3 2 1 2 6 4 2 0 4 4 1 4 1 1 1 3 2 2 1 3 0 2 4 2 1 2 3 1 1 5 2 4 1 0 3 3 3 0 3 3 3 3 0 1 1 5 2 3 4 3 4 3 2 2 0 3 1 3 4 5 0 2 2 6 2 1 3 2 4 2 3 5 3 4 3 4 5 2 3 0 2 3 3 3 3 1 1 1 1 5 0 2 4 3 5 0 6 2 2 2 1 0 5 2 1 3 0 0 2 3 2 1 2 3 2 2 0 1 2 1 3 1 2 3 4 1 1 1 2 3 4 0 3 1 1 4 1 1\n",
      "G: 1 5 2 3 6 1 3 0 4 4 1 4 2 1 2 5 2 1 1 3 2 3 2 5 1 4 0 4 1 2 4 1 0 2 2 7 3 2 0 2 3 2 4 4 1 3 3 3 2 3 3 8 2 4 4 2 1 0 4 2 4 3 3 0 2 2 3 2 3 0 3 2 2 2 3 4 4 1 3 3 4 3 0 0 4 2 3 3 4 2 3 3 1 1 5 2 3 1 1 1 0 0 0 3 2 3 1 3 1 1 4 3 3 3 2 2 2 3 4 2 4 2 2 2 1 4 1 4 2 3 4 3 3 1 3 2 2 3 1 1 3 5 2 1 4 1 2 1 3 4 3 5 1 2 2 1 4 2 3 3 2 1 4 0 1 2 4 2 1 3 2 2 2 1 2 3 1 2 5 4 3 3 5 3 1 4 2 2 4 1 3 1 6 1 1 1 1 2 1 2 5 3 3 5 0 1 3 1 3 2 3 4 1 1 1 3 2 1 2 4 1 0 5 4 1 1 2 3 1 2 0 1 2 1 1 5 1 4 3 2 3 1 3 2 6 1 0 1 3 3 2 1 1 3 4 6 2 0 2 5 2 2 1 1 2 1 2 4 5 3 5 4 1 2 4 4 1 3 2 2 3 3 1 1 4 1 1 3 2 1 2 1 2 4 2 3 4 3 0 2 2 2 4 1 3 2 1 2 2 4 1 0 5 1 3 5 4 3 2 3 4 2 3 3 1 4 2 1 3 0 3 2 0 2 2 5 1 3 5 3 2 1 2 1 1 2 3 1 2 2 3 1 2 3 3 3 2 0 3 3 2 5 3 2 3 1 5 1 2 1 2 4 2 1 3 3 3 4 3 3 3 4 3 1 2 3 4 2 2 2 2 3 1 5 2 5 2 2 1 3 3 1 3 3 2 2 1 3 3 1 3 1 2 2 2 2 1 3 4 3 4 1 1 4 3 3 5 3 1 2 2 5 1 4 3 1 2 4 0 2 2 2 3 1 1 3 3 1 3 1 1 1 1 2 2 2 2 2 1 2 3 3 5 2 2 2 3 3 1 2 0 2 6 2 3 4 2 3 0 4 5 0 4 1 3 0 3 4 3 3 5 1 5 1 1 4 3 1 3 3 2 1 3 6 3 3 1 2 0 3 7 2 3 6 1 3 1 3 5 4 2 2 2 2 2 3 1 2 3 1 1 0 4 0 4 5 3 1 3 0 3 4 4 2 4 0 2 2 3 3 6 1 2 2 3 3 4 3 1 2 3 2 5 1 4 1 3 2 1 1 5 2 3 3 3 3 4 1 5 5 3 1 2 3 3 2 0 3 5 2 3 3 0 2 4 4 1 4 1 1 2 1 3 1 3 2 3 1 3 1 2 2 4 1 4 4 0 0 3 4 3 3 5 2 4 2 2 1 2 2 1 4 2 1 1 4 3 1 3 2 2 3 0 1 2 1 4 1 2 4 1 4 2 4 2 2 3 3 4 3 2 3 3 1 3 3 5 5 3 2 2 4 3 2 0 1 2 1 6 4 3 2 3 4 2 1 2 2 4 0 2 2 6 3 4 1 3 3 4 2 1 2 0 2 3 4 5 4 3 3 1 2 3 5 2 5 2 2 3 3 2 3 4 2 5 2 2 1 3 3 3 3 2 5 2 0 1 4 5 1 3 2 3 3 5 4 2 3 3 2 4 2 5 0 4 2 1 2 3 5 2 1 4 1 3 5 1 2 3 4 1 2 3 4 3 4 1 4 5 3 5 4 3 3 5 4 1 3 0 2 1 0 4 3 1 2 3 2 3 2 2 5 3 2 2 2 1 0 1 4 2 3 4 2 0 2 4 1 1 3 0 3 0 3 3 2 0 4 4 1 2 2 3 1 1 3 4 2 4 4 0 3 2 4 1 4 2 1 6 2 4 3 2 1 4 2 2 3 4 3 3 4 5 2 6 0 1 1 1 2 6 2 4 1 1 3 3 2 3 3 3 0 4 2 3 2 3 1 1 0 0 2 2 0 2 3 5 0 3 2 1 2 1 4 2 2 3 4 4 2 3 2 2 4 2 3 2 2 4 2 1 3 3 2 4 4 4 2 2 3 6 3 0 2 3 6 7 2 2 3 5 4 1 0 3 3 3 2 1 3 4 5 1 2 3 3\n",
      "T: 2 2 1 0 1 5 1 5 2 0 4 2 1 3 3 2 3 1 4 4 1 5 1 2 5 2 4 1 4 2 3 4 2 3 2 2 2 5 1 3 2 4 2 3 3 3 3 2 4 1 4 0 2 4 2 1 2 4 1 5 4 2 3 3 4 4 0 2 3 3 2 1 3 4 0 0 1 2 3 4 1 2 4 3 1 2 2 2 3 6 1 3 2 2 0 5 2 4 2 2 2 3 1 4 0 3 4 2 1 1 1 1 3 4 2 2 2 0 4 0 1 2 2 0 5 1 5 4 5 2 4 2 0 5 3 3 2 2 2 2 2 1 2 2 3 2 1 5 1 1 3 1 1 4 1 3 1 2 2 1 3 2 0 2 2 2 2 5 3 2 2 2 2 6 4 0 4 1 3 1 4 4 1 1 3 4 2 1 1 6 1 0 2 4 4 5 4 3 3 4 2 4 1 3 2 3 2 2 2 2 2 0 3 4 5 3 2 4 2 3 2 3 3 0 4 3 3 2 3 1 1 2 1 4 4 1 4 3 5 3 2 1 3 1 1 2 1 1 4 1 5 2 2 1 3 1 3 4 2 4 2 4 3 3 1 4 4 3 0 4 2 2 2 3 2 3 4 1 2 4 1 3 5 2 2 4 4 2 3 1 3 3 3 4 5 3 3 3 5 5 2 3 2 4 2 2 0 2 3 2 3 3 1 2 3 1 3 2 4 2 3 2 0 3 3 1 2 1 2 3 2 3 8 5 1 0 3 1 2 4 4 4 3 3 4 3 3 2 3 2 2 2 4 3 3 3 2 1 2 4 2 2 3 3 1 3 1 4 5 2 2 1 5 5 5 3 2 3 1 1 3 1 2 3 5 1 2 4 2 4 4 2 5 2 3 2 1 2 5 1 1 3 2 2 4 2 3 4 3 3 4 2 1 3 3 5 2 6 2 2 3 3 0 1 3 2 0 1 4 1 2 2 3 3 4 4 3 2 6 2 6 1 2 2 3 3 6 1 2 2 1 4 4 3 4 3 2 3 4 3 2 2 1 4 2 2 2 5 3 2 5 2 2 1 5 3 2 4 1 2 0 1 2 3 3 5 4 1 4 1 2 4 1 0 2 2 2 6 2 2 7 4 1 2 4 4 3 1 2 5 1 5 1 1 1 3 1 0 2 0 3 1 1 3 3 2 6 2 1 5 4 3 1 5 3 3 0 2 4 3 1 3 0 3 1 1 3 4 2 4 2 2 4 3 5 2 1 3 5 3 6 0 3 3 2 3 1 1 2 5 1 4 2 4 1 2 1 3 2 1 2 7 5 4 3 4 2 1 1 3 1 2 1 3 1 2 3 3 2 2 0 4 4 3 2 3 4 3 2 3 1 3 2 3 2 3 3 5 2 1 1 0 1 5 4 3 2 3 4 3 0 4 3 2 1 5 1 7 3 2 3 1 4 3 4 5 1 2 3 0 6 1 4 3 3 3 2 4 3 3 3 1 3 2 3 1 1 3 3 1 0 0 2 3 3 4 3 4 2 2 1 3 2 1 3 2 2 2 2 2 2 1 2 3 2 2 1 2 3 5 3 1 3 2 2 2 2 2 1 1 4 2 1 2 1 2 3 1 3 3 1 1 1 4 2 1 4 3 2 1 2 2 2 2 0 4 4 4 2 4 1 2 2 5 1 1 1 1 1 4 4 4 3 2 2 3 4 3 1 1 1 3 1 4 1 1 2 2 1 0 4 1 3 2 2 3 1 1 3 2 2 2 1 2 1 0 1 1 4 1 4 4 2 3 4 3 3 0 2 5 2 2 1 3 4 2 4 4 2 2 2 2 4 7 3 1 3 2 2 2 5 2 2 0 1 1 3 1 4 1 5 3 4 1 5 3 2 2 4 3 3 3 3 1 2 3 4 3 2 1 1 4 2 3 1 3 4 4 1 1 3 3 3 2 1 4 1 4 1 2 1 3 2 4 4 1 1 1 3 3 4 2 1 3 2 4 1 5 2 2 4 2 3 3 2 2 1 3 2 4 2 3 3 3 1 5 3 1 2 3 1 2 1 3 2 2 3 4 4 3 2 2 4 2 5 3 2 4 4 3 2 2 3 3 4 2 1 4 4 3 1 2 3 4 3 3 2 4 0 3 2 2 3 2 4 3\n"
     ]
    }
   ],
   "source": [
    "# File path to your FASTA file\n",
    "file_path = 'C:\\\\Users\\\\scien\\\\Desktop\\\\rosalind_cons_2.txt'\n",
    "\n",
    "# Read the DNA from the FASTA file\n",
    "DNA = read_fasta(file_path)\n",
    "\n",
    "# Calculate the consensus and profile matrix\n",
    "consensus, profile = cal_consensus(DNA)\n",
    "\n",
    "print(\"Consensus:\", consensus)\n",
    "print_profile(profile)"
   ]
  }
 ],
 "metadata": {
  "kernelspec": {
   "display_name": "Python 3 (ipykernel)",
   "language": "python",
   "name": "python3"
  },
  "language_info": {
   "codemirror_mode": {
    "name": "ipython",
    "version": 3
   },
   "file_extension": ".py",
   "mimetype": "text/x-python",
   "name": "python",
   "nbconvert_exporter": "python",
   "pygments_lexer": "ipython3",
   "version": "3.11.5"
  }
 },
 "nbformat": 4,
 "nbformat_minor": 5
}
